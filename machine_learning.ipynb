{
  "nbformat": 4,
  "nbformat_minor": 0,
  "metadata": {
    "colab": {
      "provenance": [],
      "authorship_tag": "ABX9TyMO9gkNhRoF1zyHIEdXRpUR",
      "include_colab_link": true
    },
    "kernelspec": {
      "name": "python3",
      "display_name": "Python 3"
    },
    "language_info": {
      "name": "python"
    }
  },
  "cells": [
    {
      "cell_type": "markdown",
      "metadata": {
        "id": "view-in-github",
        "colab_type": "text"
      },
      "source": [
        "<a href=\"https://colab.research.google.com/github/anadognini/Machine-Learning/blob/main/machine_learning.ipynb\" target=\"_parent\"><img src=\"https://colab.research.google.com/assets/colab-badge.svg\" alt=\"Open In Colab\"/></a>"
      ]
    },
    {
      "cell_type": "code",
      "execution_count": null,
      "metadata": {
        "id": "A3uBPDEbyUNs"
      },
      "outputs": [],
      "source": [
        "# features (1 sim, 0 não)\n",
        "# pelo longo?\n",
        "# perna curta?\n",
        "# faz au au?\n",
        "\n",
        "porco1 = [0, 1, 0]\n",
        "porco2 = [0, 1, 1]\n",
        "porco3 = [1, 1, 0]\n",
        "\n",
        "cachorro1 = [0, 1, 1]\n",
        "cachorro2 = [1, 0, 1]\n",
        "cachorro3 = [1, 1, 1]\n",
        "\n",
        "# 1 => porco, 0 => cachorro\n",
        "dados = [porco1, porco2, porco3, cachorro1, cachorro3, cachorro3]\n",
        "classes = [1, 1, 1, 0, 0, 0]"
      ]
    },
    {
      "cell_type": "code",
      "source": [
        "# estimar a classe\n",
        "\n",
        "from sklearn.svm import LinearSVC \n",
        "\n",
        "model = LinearSVC()\n",
        "model.fit(dados, classes)"
      ],
      "metadata": {
        "id": "CgwWqEWf0CpN"
      },
      "execution_count": null,
      "outputs": []
    },
    {
      "cell_type": "code",
      "source": [
        "animal_misterioso = [1, 1, 1]\n",
        "model.predict([animal_misterioso])"
      ],
      "metadata": {
        "colab": {
          "base_uri": "https://localhost:8080/"
        },
        "id": "9S6TA1YB1Ck_",
        "outputId": "486ba418-7a0c-432b-c33c-829f6cf24d23"
      },
      "execution_count": null,
      "outputs": [
        {
          "output_type": "execute_result",
          "data": {
            "text/plain": [
              "array([0])"
            ]
          },
          "metadata": {},
          "execution_count": 10
        }
      ]
    },
    {
      "cell_type": "code",
      "source": [
        "misterio1 = [1, 1, 1]\n",
        "misterio2 = [1, 1, 0]\n",
        "misterio3 = [0, 1, 1]\n",
        "\n",
        "testes = [misterio1, misterio2, misterio3]\n",
        "previsoes = model.predict(testes)"
      ],
      "metadata": {
        "id": "pAaExy0R1j_S"
      },
      "execution_count": null,
      "outputs": []
    },
    {
      "cell_type": "code",
      "source": [
        "valores_reais = [0, 1, 1]\n",
        "\n",
        "# averiguar o quanto o model foi capaz de acertar"
      ],
      "metadata": {
        "id": "dcnhFYme15QE"
      },
      "execution_count": null,
      "outputs": []
    },
    {
      "cell_type": "code",
      "source": [
        "corretos = (previsoes == valores_reais).sum()\n",
        "\n",
        "# 2 é o número de verdadeiros\n",
        "\n",
        "total = len(testes)\n",
        "taxa_de_acerto = corretos/total\n",
        "print(\"Taxa de acerto: \", taxa_de_acerto * 100, \"%\")"
      ],
      "metadata": {
        "colab": {
          "base_uri": "https://localhost:8080/"
        },
        "id": "7roRXMIU2kbW",
        "outputId": "76103d88-d9a6-4639-c7f6-454cc7c907f0"
      },
      "execution_count": null,
      "outputs": [
        {
          "output_type": "stream",
          "name": "stdout",
          "text": [
            "Taxa de acerto:  66.66666666666666 %\n"
          ]
        }
      ]
    },
    {
      "cell_type": "code",
      "source": [
        "from sklearn.metrics import accuracy_score\n",
        "\n",
        "# taxa de acerto\n",
        "\n",
        "taxa_de_acerto = accuracy_score(valores_reais, previsoes)\n",
        "print(\"Taxa de acerto: \", taxa_de_acerto * 100, \"%\")"
      ],
      "metadata": {
        "colab": {
          "base_uri": "https://localhost:8080/"
        },
        "id": "BWFNGUP43gpA",
        "outputId": "46cc1891-6060-491a-a372-20aedc718073"
      },
      "execution_count": null,
      "outputs": [
        {
          "output_type": "stream",
          "name": "stdout",
          "text": [
            "Taxa de acerto:  66.66666666666666 %\n"
          ]
        }
      ]
    }
  ]
}